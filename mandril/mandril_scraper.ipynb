{
 "cells": [
  {
   "cell_type": "code",
   "execution_count": 3,
   "id": "c58cb667-cd51-48db-8d8b-0e8946bd7a68",
   "metadata": {},
   "outputs": [],
   "source": [
    "import pandas as pd\n",
    "import requests\n",
    "from io import StringIO\n",
    "\n",
    "url = \"https://da.wikipedia.org/wiki/Figurer_fra_Casper_%26_Mandrilaftalen\"\n",
    "headers = {\n",
    "    \"User-Agent\": \"Mozilla/5.0 (Windows NT 10.0; Win64; x64) \"\n",
    "    \"AppleWebKit/537.36 (KHTML, like Gecko) \"\n",
    "    \"Chrome/116.0.0.0 Safari/537.36\"\n",
    "}\n",
    "pd.set_option('display.max_rows', None)\n",
    "response = requests.get(url, headers=headers)\n",
    "\n",
    "# Read all tables from URL\n",
    "tables = pd.read_html(StringIO(response.text))\n",
    "\n",
    "# Pick right table\n",
    "df = tables[1]\n",
    "\n",
    "# Flatten multiindex columns into string\n",
    "# for col in df.columns = loops through each column name\n",
    "# isinstance(col, tuple) = checks if column is a tuple\n",
    "# '_'.join(col) = joins tuple into a string (\"actor\", \"name\" -> \"actor_name\")\n",
    "# else col = if column is a string, leave it alone.\n",
    "# strip() = removes extra space\n",
    "df.columns = [\n",
    "    \"_\".join(col).strip() if isinstance(col, tuple) else col for col in df.columns\n",
    "]\n",
    "\n",
    "# Rename columns\n",
    "rename_table = {\n",
    "    \"Navn_Navn\": \"navn\",\n",
    "    \"Spillet af_Spillet af\": \"spillet_af\",\n",
    "    \"Afsnit_Antal\": \"antal_afsnit\",\n",
    "    \"Afsnit_Numre\": \"afsnit_nummer\",\n",
    "    \"Beskrivelse_Beskrivelse\": \"beskrivelse\",\n",
    "}\n",
    "\n",
    "# Convert dtypes\n",
    "df = df.convert_dtypes()\n",
    "\n",
    "# Convert table names\n",
    "df.rename(columns=rename_table, inplace=True)\n",
    "\n",
    "# removes the [] references\n",
    "# \\[\\d+\\] Matches any square-bracketed number, like [3], [99]\n",
    "df[[\"navn\", \"beskrivelse\"]] = df[[\"navn\", \"beskrivelse\"]].apply(\n",
    "    lambda col: col.str.replace(r\"\\[\\d+\\]\", \"\", regex=True).str.strip()\n",
    ")\n",
    "\n",
    "# Parse and convert \"afsnit_nummer\" column to lists of integers\n",
    "df[\"afsnit_nummer\"] = (\n",
    "    # Column as string\n",
    "    df[\"afsnit_nummer\"]\n",
    "    # Ensure all values are strings\n",
    "    .astype(str)\n",
    "    # Split each string by comma = [\"32\", \"41\"]\n",
    "    .str.split(\",\").apply(\n",
    "        # For each list of strings:\n",
    "        lambda lst: [\n",
    "            # For each part, handle ranges and single numbers\n",
    "            int(x)  # Converts each ep nr (range or list) to an Int\n",
    "            for part in lst  # Iterates over each comma-seperated segment ('1-3', '47')\n",
    "            for x in (  # Allows handling both ranges (range(...)) and single values ([value])\n",
    "                # Handle ranges like \"1-67\"\n",
    "                range(\n",
    "                    int(part.split(\"-\")[0]), int(part.split(\"-\")[1]) + 1\n",
    "                )  # Expands ranges like '1-3' into '1, 2, 3'\n",
    "                if \"-\" in part\n",
    "                and part.split(\"-\")[0].isdigit()  # Make sure part is number\n",
    "                and part.split(\"-\")[1].isdigit()\n",
    "                else [\n",
    "                    part.strip()\n",
    "                ]  # Handles single ep number by putting in one-element list\n",
    "            )\n",
    "            # Only convert to int if it’s a digit\n",
    "            if (str(x).isdigit())  # Final check to make sure it's converted to numeric\n",
    "        ]\n",
    "    )\n",
    ")\n",
    "\n",
    "\n",
    "# Explode list\n",
    "# Takes each list in column and creates one row per element in the list\n",
    "# .reset_index[drop=True] resets index to be clean and sequential after explosion\n",
    "df = df.explode(\"afsnit_nummer\").reset_index(drop=True)\n",
    "# Converts column from object to nullable integer dtype(Int64)\n",
    "df[\"afsnit_nummer\"] = df[\"afsnit_nummer\"].astype(\"Int64\")\n",
    "# Explode outputs generic types!"
   ]
  },
  {
   "cell_type": "code",
   "execution_count": 12,
   "id": "6050641a-e353-4ac4-8123-edf589ec5bfc",
   "metadata": {},
   "outputs": [
    {
     "data": {
      "text/plain": [
       "navn             string[python]\n",
       "spillet_af       string[python]\n",
       "antal_afsnit              Int64\n",
       "afsnit_nummer             Int64\n",
       "beskrivelse      string[python]\n",
       "dtype: object"
      ]
     },
     "execution_count": 12,
     "metadata": {},
     "output_type": "execute_result"
    }
   ],
   "source": [
    "df.dtypes"
   ]
  },
  {
   "cell_type": "code",
   "execution_count": 4,
   "id": "e17b3eba-b9b7-4480-a74d-e74de42ac4a5",
   "metadata": {},
   "outputs": [
    {
     "data": {
      "text/html": [
       "<div>\n",
       "<style scoped>\n",
       "    .dataframe tbody tr th:only-of-type {\n",
       "        vertical-align: middle;\n",
       "    }\n",
       "\n",
       "    .dataframe tbody tr th {\n",
       "        vertical-align: top;\n",
       "    }\n",
       "\n",
       "    .dataframe thead th {\n",
       "        text-align: right;\n",
       "    }\n",
       "</style>\n",
       "<table border=\"1\" class=\"dataframe\">\n",
       "  <thead>\n",
       "    <tr style=\"text-align: right;\">\n",
       "      <th></th>\n",
       "      <th>navn</th>\n",
       "      <th>spillet_af</th>\n",
       "      <th>antal_afsnit</th>\n",
       "      <th>afsnit_nummer</th>\n",
       "      <th>beskrivelse</th>\n",
       "    </tr>\n",
       "  </thead>\n",
       "  <tbody>\n",
       "    <tr>\n",
       "      <th>0</th>\n",
       "      <td>Abraham Mamrelund</td>\n",
       "      <td>Sebastian Dorset</td>\n",
       "      <td>1</td>\n",
       "      <td>41</td>\n",
       "      <td>Starfucker.</td>\n",
       "    </tr>\n",
       "    <tr>\n",
       "      <th>1</th>\n",
       "      <td>Adolf Honningånde og Kuntakinte Eriksen</td>\n",
       "      <td>Lars Hjortshøj og Lasse Rimmer</td>\n",
       "      <td>1</td>\n",
       "      <td>61</td>\n",
       "      <td>To genstridige naboer.</td>\n",
       "    </tr>\n",
       "    <tr>\n",
       "      <th>2</th>\n",
       "      <td>Alf Bat</td>\n",
       "      <td>Lasse Rimmer</td>\n",
       "      <td>1</td>\n",
       "      <td>11</td>\n",
       "      <td>Kedelbruger med hang til hyng.</td>\n",
       "    </tr>\n",
       "    <tr>\n",
       "      <th>3</th>\n",
       "      <td>Alfonso Trendy</td>\n",
       "      <td>Frank Hvam</td>\n",
       "      <td>2</td>\n",
       "      <td>36</td>\n",
       "      <td>Har glemt, hvorfor han er kommet i studiet. Tr...</td>\n",
       "    </tr>\n",
       "    <tr>\n",
       "      <th>4</th>\n",
       "      <td>Alfonso Trendy</td>\n",
       "      <td>Frank Hvam</td>\n",
       "      <td>2</td>\n",
       "      <td>41</td>\n",
       "      <td>Har glemt, hvorfor han er kommet i studiet. Tr...</td>\n",
       "    </tr>\n",
       "  </tbody>\n",
       "</table>\n",
       "</div>"
      ],
      "text/plain": [
       "                                      navn                      spillet_af  \\\n",
       "0                        Abraham Mamrelund                Sebastian Dorset   \n",
       "1  Adolf Honningånde og Kuntakinte Eriksen  Lars Hjortshøj og Lasse Rimmer   \n",
       "2                                  Alf Bat                    Lasse Rimmer   \n",
       "3                           Alfonso Trendy                      Frank Hvam   \n",
       "4                           Alfonso Trendy                      Frank Hvam   \n",
       "\n",
       "   antal_afsnit  afsnit_nummer  \\\n",
       "0             1             41   \n",
       "1             1             61   \n",
       "2             1             11   \n",
       "3             2             36   \n",
       "4             2             41   \n",
       "\n",
       "                                         beskrivelse  \n",
       "0                                        Starfucker.  \n",
       "1                             To genstridige naboer.  \n",
       "2                     Kedelbruger med hang til hyng.  \n",
       "3  Har glemt, hvorfor han er kommet i studiet. Tr...  \n",
       "4  Har glemt, hvorfor han er kommet i studiet. Tr...  "
      ]
     },
     "execution_count": 4,
     "metadata": {},
     "output_type": "execute_result"
    }
   ],
   "source": [
    "df.head()"
   ]
  },
  {
   "cell_type": "code",
   "execution_count": 12,
   "id": "183e7582-3628-40b3-abb0-eaa6a0caeecb",
   "metadata": {},
   "outputs": [
    {
     "data": {
      "application/vnd.plotly.v1+json": {
       "config": {
        "plotlyServerURL": "https://plot.ly"
       },
       "data": [
        {
         "hovertemplate": "Antal afsnit=%{x}<br>Skuespiller (Antal afsnit)=%{y}<extra></extra>",
         "legendgroup": "",
         "marker": {
          "color": "#636efa",
          "pattern": {
           "shape": ""
          }
         },
         "name": "",
         "orientation": "h",
         "showlegend": false,
         "textposition": "auto",
         "type": "bar",
         "x": {
          "bdata": "Q0A9NRMKCQkIBgQEBAMCAgICAgIBAQEBAQEBAQEA",
          "dtype": "i1"
         },
         "xaxis": "x",
         "y": [
          "Casper Christensen (67 afsnit)",
          "Lasse Rimmer (64 afsnit)",
          "Frank Hvam (61 afsnit)",
          "Lars Hjortshøj (53 afsnit)",
          "Susse Wold (19 afsnit)",
          "Casper Christensen, Frank Hvam, Lars Hjortshøj og Lasse Rimmer (10 afsnit)",
          "Lars Hjortshøj og Lasse Rimmer (9 afsnit)",
          "Anders Matthesen (9 afsnit)",
          "Frank Hvam og Lasse Rimmer (8 afsnit)",
          "Frank Hvam, Lars Hjortshøj og Lasse Rimmer (6 afsnit)",
          "Frank Hvam og Lars Hjortshøj (4 afsnit)",
          "Casper Christensen, Frank Hvam og Lasse Rimmer (4 afsnit)",
          "Nordine Amraoui (4 afsnit)",
          "Lars Hjortshøj og Casper Christensen (3 afsnit)",
          "Sebastian Dorset (2 afsnit)",
          "Lars Hjortshøj og Iben Sol Mauritson (2 afsnit)",
          "Freulein (2 afsnit)",
          "Jan Gintberg (2 afsnit)",
          "Casper Christensen og Lars Hjortshøj (2 afsnit)",
          "Frank Hvam, Lars Hjortshøj, Lasse Rimmer og Mick Øgendahl (2 afsnit)",
          "Anders Matthesen og Uffe Holm (1 afsnit)",
          "Anders Matthesen og Lars Hjortshøj (1 afsnit)",
          "Frank Hvam og Anders Matthesen (1 afsnit)",
          "Anders Lund Madsen (1 afsnit)",
          "Iben Sol Mauritson (1 afsnit)",
          "John Cleese (1 afsnit)",
          "Lars Hjortshøj og Jan Gintberg (1 afsnit)",
          "Thomas Milton (1 afsnit)",
          "Uffe Holm (1 afsnit)",
          "Lasse Rimmer og Sebastian Dorset (0 afsnit)"
         ],
         "yaxis": "y"
        }
       ],
       "layout": {
        "barmode": "relative",
        "legend": {
         "tracegroupgap": 0
        },
        "template": {
         "data": {
          "bar": [
           {
            "error_x": {
             "color": "#2a3f5f"
            },
            "error_y": {
             "color": "#2a3f5f"
            },
            "marker": {
             "line": {
              "color": "#E5ECF6",
              "width": 0.5
             },
             "pattern": {
              "fillmode": "overlay",
              "size": 10,
              "solidity": 0.2
             }
            },
            "type": "bar"
           }
          ],
          "barpolar": [
           {
            "marker": {
             "line": {
              "color": "#E5ECF6",
              "width": 0.5
             },
             "pattern": {
              "fillmode": "overlay",
              "size": 10,
              "solidity": 0.2
             }
            },
            "type": "barpolar"
           }
          ],
          "carpet": [
           {
            "aaxis": {
             "endlinecolor": "#2a3f5f",
             "gridcolor": "white",
             "linecolor": "white",
             "minorgridcolor": "white",
             "startlinecolor": "#2a3f5f"
            },
            "baxis": {
             "endlinecolor": "#2a3f5f",
             "gridcolor": "white",
             "linecolor": "white",
             "minorgridcolor": "white",
             "startlinecolor": "#2a3f5f"
            },
            "type": "carpet"
           }
          ],
          "choropleth": [
           {
            "colorbar": {
             "outlinewidth": 0,
             "ticks": ""
            },
            "type": "choropleth"
           }
          ],
          "contour": [
           {
            "colorbar": {
             "outlinewidth": 0,
             "ticks": ""
            },
            "colorscale": [
             [
              0,
              "#0d0887"
             ],
             [
              0.1111111111111111,
              "#46039f"
             ],
             [
              0.2222222222222222,
              "#7201a8"
             ],
             [
              0.3333333333333333,
              "#9c179e"
             ],
             [
              0.4444444444444444,
              "#bd3786"
             ],
             [
              0.5555555555555556,
              "#d8576b"
             ],
             [
              0.6666666666666666,
              "#ed7953"
             ],
             [
              0.7777777777777778,
              "#fb9f3a"
             ],
             [
              0.8888888888888888,
              "#fdca26"
             ],
             [
              1,
              "#f0f921"
             ]
            ],
            "type": "contour"
           }
          ],
          "contourcarpet": [
           {
            "colorbar": {
             "outlinewidth": 0,
             "ticks": ""
            },
            "type": "contourcarpet"
           }
          ],
          "heatmap": [
           {
            "colorbar": {
             "outlinewidth": 0,
             "ticks": ""
            },
            "colorscale": [
             [
              0,
              "#0d0887"
             ],
             [
              0.1111111111111111,
              "#46039f"
             ],
             [
              0.2222222222222222,
              "#7201a8"
             ],
             [
              0.3333333333333333,
              "#9c179e"
             ],
             [
              0.4444444444444444,
              "#bd3786"
             ],
             [
              0.5555555555555556,
              "#d8576b"
             ],
             [
              0.6666666666666666,
              "#ed7953"
             ],
             [
              0.7777777777777778,
              "#fb9f3a"
             ],
             [
              0.8888888888888888,
              "#fdca26"
             ],
             [
              1,
              "#f0f921"
             ]
            ],
            "type": "heatmap"
           }
          ],
          "histogram": [
           {
            "marker": {
             "pattern": {
              "fillmode": "overlay",
              "size": 10,
              "solidity": 0.2
             }
            },
            "type": "histogram"
           }
          ],
          "histogram2d": [
           {
            "colorbar": {
             "outlinewidth": 0,
             "ticks": ""
            },
            "colorscale": [
             [
              0,
              "#0d0887"
             ],
             [
              0.1111111111111111,
              "#46039f"
             ],
             [
              0.2222222222222222,
              "#7201a8"
             ],
             [
              0.3333333333333333,
              "#9c179e"
             ],
             [
              0.4444444444444444,
              "#bd3786"
             ],
             [
              0.5555555555555556,
              "#d8576b"
             ],
             [
              0.6666666666666666,
              "#ed7953"
             ],
             [
              0.7777777777777778,
              "#fb9f3a"
             ],
             [
              0.8888888888888888,
              "#fdca26"
             ],
             [
              1,
              "#f0f921"
             ]
            ],
            "type": "histogram2d"
           }
          ],
          "histogram2dcontour": [
           {
            "colorbar": {
             "outlinewidth": 0,
             "ticks": ""
            },
            "colorscale": [
             [
              0,
              "#0d0887"
             ],
             [
              0.1111111111111111,
              "#46039f"
             ],
             [
              0.2222222222222222,
              "#7201a8"
             ],
             [
              0.3333333333333333,
              "#9c179e"
             ],
             [
              0.4444444444444444,
              "#bd3786"
             ],
             [
              0.5555555555555556,
              "#d8576b"
             ],
             [
              0.6666666666666666,
              "#ed7953"
             ],
             [
              0.7777777777777778,
              "#fb9f3a"
             ],
             [
              0.8888888888888888,
              "#fdca26"
             ],
             [
              1,
              "#f0f921"
             ]
            ],
            "type": "histogram2dcontour"
           }
          ],
          "mesh3d": [
           {
            "colorbar": {
             "outlinewidth": 0,
             "ticks": ""
            },
            "type": "mesh3d"
           }
          ],
          "parcoords": [
           {
            "line": {
             "colorbar": {
              "outlinewidth": 0,
              "ticks": ""
             }
            },
            "type": "parcoords"
           }
          ],
          "pie": [
           {
            "automargin": true,
            "type": "pie"
           }
          ],
          "scatter": [
           {
            "fillpattern": {
             "fillmode": "overlay",
             "size": 10,
             "solidity": 0.2
            },
            "type": "scatter"
           }
          ],
          "scatter3d": [
           {
            "line": {
             "colorbar": {
              "outlinewidth": 0,
              "ticks": ""
             }
            },
            "marker": {
             "colorbar": {
              "outlinewidth": 0,
              "ticks": ""
             }
            },
            "type": "scatter3d"
           }
          ],
          "scattercarpet": [
           {
            "marker": {
             "colorbar": {
              "outlinewidth": 0,
              "ticks": ""
             }
            },
            "type": "scattercarpet"
           }
          ],
          "scattergeo": [
           {
            "marker": {
             "colorbar": {
              "outlinewidth": 0,
              "ticks": ""
             }
            },
            "type": "scattergeo"
           }
          ],
          "scattergl": [
           {
            "marker": {
             "colorbar": {
              "outlinewidth": 0,
              "ticks": ""
             }
            },
            "type": "scattergl"
           }
          ],
          "scattermap": [
           {
            "marker": {
             "colorbar": {
              "outlinewidth": 0,
              "ticks": ""
             }
            },
            "type": "scattermap"
           }
          ],
          "scattermapbox": [
           {
            "marker": {
             "colorbar": {
              "outlinewidth": 0,
              "ticks": ""
             }
            },
            "type": "scattermapbox"
           }
          ],
          "scatterpolar": [
           {
            "marker": {
             "colorbar": {
              "outlinewidth": 0,
              "ticks": ""
             }
            },
            "type": "scatterpolar"
           }
          ],
          "scatterpolargl": [
           {
            "marker": {
             "colorbar": {
              "outlinewidth": 0,
              "ticks": ""
             }
            },
            "type": "scatterpolargl"
           }
          ],
          "scatterternary": [
           {
            "marker": {
             "colorbar": {
              "outlinewidth": 0,
              "ticks": ""
             }
            },
            "type": "scatterternary"
           }
          ],
          "surface": [
           {
            "colorbar": {
             "outlinewidth": 0,
             "ticks": ""
            },
            "colorscale": [
             [
              0,
              "#0d0887"
             ],
             [
              0.1111111111111111,
              "#46039f"
             ],
             [
              0.2222222222222222,
              "#7201a8"
             ],
             [
              0.3333333333333333,
              "#9c179e"
             ],
             [
              0.4444444444444444,
              "#bd3786"
             ],
             [
              0.5555555555555556,
              "#d8576b"
             ],
             [
              0.6666666666666666,
              "#ed7953"
             ],
             [
              0.7777777777777778,
              "#fb9f3a"
             ],
             [
              0.8888888888888888,
              "#fdca26"
             ],
             [
              1,
              "#f0f921"
             ]
            ],
            "type": "surface"
           }
          ],
          "table": [
           {
            "cells": {
             "fill": {
              "color": "#EBF0F8"
             },
             "line": {
              "color": "white"
             }
            },
            "header": {
             "fill": {
              "color": "#C8D4E3"
             },
             "line": {
              "color": "white"
             }
            },
            "type": "table"
           }
          ]
         },
         "layout": {
          "annotationdefaults": {
           "arrowcolor": "#2a3f5f",
           "arrowhead": 0,
           "arrowwidth": 1
          },
          "autotypenumbers": "strict",
          "coloraxis": {
           "colorbar": {
            "outlinewidth": 0,
            "ticks": ""
           }
          },
          "colorscale": {
           "diverging": [
            [
             0,
             "#8e0152"
            ],
            [
             0.1,
             "#c51b7d"
            ],
            [
             0.2,
             "#de77ae"
            ],
            [
             0.3,
             "#f1b6da"
            ],
            [
             0.4,
             "#fde0ef"
            ],
            [
             0.5,
             "#f7f7f7"
            ],
            [
             0.6,
             "#e6f5d0"
            ],
            [
             0.7,
             "#b8e186"
            ],
            [
             0.8,
             "#7fbc41"
            ],
            [
             0.9,
             "#4d9221"
            ],
            [
             1,
             "#276419"
            ]
           ],
           "sequential": [
            [
             0,
             "#0d0887"
            ],
            [
             0.1111111111111111,
             "#46039f"
            ],
            [
             0.2222222222222222,
             "#7201a8"
            ],
            [
             0.3333333333333333,
             "#9c179e"
            ],
            [
             0.4444444444444444,
             "#bd3786"
            ],
            [
             0.5555555555555556,
             "#d8576b"
            ],
            [
             0.6666666666666666,
             "#ed7953"
            ],
            [
             0.7777777777777778,
             "#fb9f3a"
            ],
            [
             0.8888888888888888,
             "#fdca26"
            ],
            [
             1,
             "#f0f921"
            ]
           ],
           "sequentialminus": [
            [
             0,
             "#0d0887"
            ],
            [
             0.1111111111111111,
             "#46039f"
            ],
            [
             0.2222222222222222,
             "#7201a8"
            ],
            [
             0.3333333333333333,
             "#9c179e"
            ],
            [
             0.4444444444444444,
             "#bd3786"
            ],
            [
             0.5555555555555556,
             "#d8576b"
            ],
            [
             0.6666666666666666,
             "#ed7953"
            ],
            [
             0.7777777777777778,
             "#fb9f3a"
            ],
            [
             0.8888888888888888,
             "#fdca26"
            ],
            [
             1,
             "#f0f921"
            ]
           ]
          },
          "colorway": [
           "#636efa",
           "#EF553B",
           "#00cc96",
           "#ab63fa",
           "#FFA15A",
           "#19d3f3",
           "#FF6692",
           "#B6E880",
           "#FF97FF",
           "#FECB52"
          ],
          "font": {
           "color": "#2a3f5f"
          },
          "geo": {
           "bgcolor": "white",
           "lakecolor": "white",
           "landcolor": "#E5ECF6",
           "showlakes": true,
           "showland": true,
           "subunitcolor": "white"
          },
          "hoverlabel": {
           "align": "left"
          },
          "hovermode": "closest",
          "mapbox": {
           "style": "light"
          },
          "paper_bgcolor": "white",
          "plot_bgcolor": "#E5ECF6",
          "polar": {
           "angularaxis": {
            "gridcolor": "white",
            "linecolor": "white",
            "ticks": ""
           },
           "bgcolor": "#E5ECF6",
           "radialaxis": {
            "gridcolor": "white",
            "linecolor": "white",
            "ticks": ""
           }
          },
          "scene": {
           "xaxis": {
            "backgroundcolor": "#E5ECF6",
            "gridcolor": "white",
            "gridwidth": 2,
            "linecolor": "white",
            "showbackground": true,
            "ticks": "",
            "zerolinecolor": "white"
           },
           "yaxis": {
            "backgroundcolor": "#E5ECF6",
            "gridcolor": "white",
            "gridwidth": 2,
            "linecolor": "white",
            "showbackground": true,
            "ticks": "",
            "zerolinecolor": "white"
           },
           "zaxis": {
            "backgroundcolor": "#E5ECF6",
            "gridcolor": "white",
            "gridwidth": 2,
            "linecolor": "white",
            "showbackground": true,
            "ticks": "",
            "zerolinecolor": "white"
           }
          },
          "shapedefaults": {
           "line": {
            "color": "#2a3f5f"
           }
          },
          "ternary": {
           "aaxis": {
            "gridcolor": "white",
            "linecolor": "white",
            "ticks": ""
           },
           "baxis": {
            "gridcolor": "white",
            "linecolor": "white",
            "ticks": ""
           },
           "bgcolor": "#E5ECF6",
           "caxis": {
            "gridcolor": "white",
            "linecolor": "white",
            "ticks": ""
           }
          },
          "title": {
           "x": 0.05
          },
          "xaxis": {
           "automargin": true,
           "gridcolor": "white",
           "linecolor": "white",
           "ticks": "",
           "title": {
            "standoff": 15
           },
           "zerolinecolor": "white",
           "zerolinewidth": 2
          },
          "yaxis": {
           "automargin": true,
           "gridcolor": "white",
           "linecolor": "white",
           "ticks": "",
           "title": {
            "standoff": 15
           },
           "zerolinecolor": "white",
           "zerolinewidth": 2
          }
         }
        },
        "title": {
         "text": "Antal episoder per skuespiller",
         "x": 0.5
        },
        "xaxis": {
         "anchor": "y",
         "domain": [
          0,
          1
         ],
         "title": {
          "text": "Antal afsnit"
         }
        },
        "yaxis": {
         "anchor": "x",
         "autorange": "reversed",
         "domain": [
          0,
          1
         ],
         "title": {
          "text": "Skuespiller (Antal afsnit)"
         }
        }
       }
      },
      "image/png": "[encoded data removed]"
     },
     "metadata": {},
     "output_type": "display_data"
    }
   ],
   "source": [
    "import plotly.express as px\n",
    "\n",
    "grouped = df.groupby(\"spillet_af\")[\"afsnit_nummer\"].nunique().reset_index(name=\"antal_afsnit\")\n"
   ]
  },
  {
   "cell_type": "code",
   "execution_count": null,
   "id": "ec53cee2-0794-41c3-87f3-1107fc80aee0",
   "metadata": {},
   "outputs": [],
   "source": []
  }
 ],
 "metadata": {
  "kernelspec": {
   "display_name": "Python 3 (ipykernel)",
   "language": "python",
   "name": "python3"
  },
  "language_info": {
   "codemirror_mode": {
    "name": "ipython",
    "version": 3
   },
   "file_extension": ".py",
   "mimetype": "text/x-python",
   "name": "python",
   "nbconvert_exporter": "python",
   "pygments_lexer": "ipython3",
   "version": "3.13.7"
  }
 },
 "nbformat": 4,
 "nbformat_minor": 5
}
